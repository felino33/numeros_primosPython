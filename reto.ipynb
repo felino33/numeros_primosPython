{
 "cells": [
  {
   "cell_type": "code",
   "execution_count": null,
   "metadata": {},
   "outputs": [],
   "source": [
    "\"\"\"\n",
    "programa para escribir todos los números enteros de python\n",
    "en un intervalo dado\n",
    "Un número primo sale de la división del número por 1 y por si mismo\n",
    "\"\"\"\n",
    " \n",
    "def primos(ramgo_inicial, rango_final): #argumentos de la función\n",
    "    lista_primos = []\n",
    "    for i in range(rango_inicial,rango_final): \n",
    "        if i == 0 or i == 1: # si el iterador es igual a cero o uno continue\n",
    "            continue\n",
    "        else: #de lo contrario\n",
    "        # verifica si existe cualquier entero de 2 a n/2+1 divisible de manera exacta; en casode que si continua \n",
    "            for j in range(2, int(i/2)+1): \n",
    "                if i % j == 0:  \n",
    "                    break \n",
    "            else: \n",
    "            # en caso contrario guarda eñ número\n",
    "                lista_primos.append(i)\n",
    "    return lista_primos\n",
    " \n",
    "# Driver program\n",
    "rango_final = 1\n",
    "rango_inicial = 250\n",
    "lst = primos(rango_inicial, rango_final)\n",
    "if len(lst) == 0: # si la longitud es cero; no hay primos \n",
    "    print(\"No hay primos en este rango\")\n",
    "else: # en caso contrario\n",
    "    print(\"Los numeros primos son: \", list)"
   ]
  }
 ],
 "metadata": {
  "language_info": {
   "name": "python"
  },
  "orig_nbformat": 4
 },
 "nbformat": 4,
 "nbformat_minor": 2
}
